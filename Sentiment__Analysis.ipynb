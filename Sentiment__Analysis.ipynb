{
  "nbformat": 4,
  "nbformat_minor": 0,
  "metadata": {
    "colab": {
      "provenance": [],
      "authorship_tag": "ABX9TyOmVkvYc1mH3YjrSUAFVJ4q",
      "include_colab_link": true
    },
    "kernelspec": {
      "name": "python3",
      "display_name": "Python 3"
    },
    "language_info": {
      "name": "python"
    }
  },
  "cells": [
    {
      "cell_type": "markdown",
      "metadata": {
        "id": "view-in-github",
        "colab_type": "text"
      },
      "source": [
        "<a href=\"https://colab.research.google.com/github/dp-08/Gen-AI/blob/main/Sentiment__Analysis.ipynb\" target=\"_parent\"><img src=\"https://colab.research.google.com/assets/colab-badge.svg\" alt=\"Open In Colab\"/></a>"
      ]
    },
    {
      "cell_type": "markdown",
      "source": [
        "Sentiment analysis using natural language toolkit libraray"
      ],
      "metadata": {
        "id": "c35Zb-HzIcM0"
      }
    },
    {
      "cell_type": "code",
      "execution_count": null,
      "metadata": {
        "id": "8zo83AXMErfO"
      },
      "outputs": [],
      "source": [
        "pip install nltk"
      ]
    },
    {
      "cell_type": "code",
      "source": [
        "import nltk\n",
        "nltk.download('vader_lexicon')"
      ],
      "metadata": {
        "id": "M-Gjkx_eFvdY"
      },
      "execution_count": null,
      "outputs": []
    },
    {
      "cell_type": "code",
      "source": [
        "import nltk\n",
        "from nltk.sentiment import SentimentIntensityAnalyzer\n",
        "\n",
        "# Initialize the sentiment analyzer\n",
        "sia = SentimentIntensityAnalyzer()\n",
        "\n",
        "print(\"--- NLTK Sentiment Analyzer ---\")\n",
        "print(\"Enter a sentence to analyze its sentiment.\")\n",
        "print(\"Type 'quit' to exit the program.\")\n",
        "print(\"-\" * 30)\n",
        "\n",
        "while True:\n",
        "    user_input = input(\"Enter a sentence: \")\n",
        "\n",
        "    if user_input.lower() == 'quit':\n",
        "        print(\"Thank you for using the NLTK Sentiment Analyzer!\")\n",
        "        break\n",
        "\n",
        "    if not user_input:\n",
        "        print(\"Please enter some text to analyze.\")\n",
        "        continue\n",
        "\n",
        "    # Perform sentiment analysis\n",
        "    sentiment_scores = sia.polarity_scores(user_input)\n",
        "\n",
        "    #Classify the sentiment based on the compound score\n",
        "    compound_score = sentiment_scores['compound']\n",
        "    if compound_score >= 0.05:\n",
        "        sentiment_class = 'Positive'\n",
        "    elif compound_score <= -0.05:\n",
        "        sentiment_class = 'Negative'\n",
        "    else:\n",
        "        sentiment_class = 'Neutral'\n",
        "\n",
        "    # Print the results\n",
        "    print(\"\\nAnalysis Results:\")\n",
        "    print(f\"Text: '{user_input}'\")\n",
        "    print(f\"Negative score: {sentiment_scores['neg']:.2f}\")\n",
        "    print(f\"Neutral score:  {sentiment_scores['neu']:.2f}\")\n",
        "    print(f\"Positive score: {sentiment_scores['pos']:.2f}\")\n",
        "    print(f\"Compound score: {compound_score:.2f}\")\n",
        "    print(f\"Overall sentiment: {sentiment_class}\\n\")\n",
        "    print(\"-\" * 30)"
      ],
      "metadata": {
        "id": "-x7O15rqF6Iq"
      },
      "execution_count": null,
      "outputs": []
    },
    {
      "cell_type": "markdown",
      "source": [
        "Sentiment Analysis using Hugging face transformer Pipelines"
      ],
      "metadata": {
        "id": "FqAAFB0AHiFx"
      }
    },
    {
      "cell_type": "code",
      "source": [
        "pip install transformers"
      ],
      "metadata": {
        "id": "EZlw_7lJHmd1"
      },
      "execution_count": null,
      "outputs": []
    },
    {
      "cell_type": "code",
      "source": [
        "from transformers import pipeline\n",
        "\n",
        "# Initialize the sentiment analysis pipeline.\n",
        "# This will download the default model the first time it's run.\n",
        "sentiment_pipeline = pipeline(\"sentiment-analysis\")\n",
        "\n",
        "print(\"--- Hugging Face Sentiment Analysis Pipeline ---\")\n",
        "print(\"Enter a sentence to analyze its sentiment.\")\n",
        "print(\"Type 'quit' to exit.\")\n",
        "print(\"-\" * 30)\n",
        "\n",
        "while True:\n",
        "    user_input = input(\"Enter your sentence: \")\n",
        "\n",
        "    if user_input.lower() == 'quit':\n",
        "        print(\"Thank you for using the sentiment analysis tool!\")\n",
        "        break\n",
        "\n",
        "    if not user_input:\n",
        "        print(\"Please enter a sentence to analyze.\")\n",
        "        continue\n",
        "\n",
        "    # Process the user input through the pipeline\n",
        "    results = sentiment_pipeline(user_input)\n",
        "\n",
        "    # The pipeline returns a list of dictionaries, one for each input.\n",
        "    # We only have one input, so we take the first element.\n",
        "    result = results[0]\n",
        "\n",
        "    print(\"\\nAnalysis Results:\")\n",
        "    print(f\"Text: '{user_input}'\")\n",
        "    print(f\"Predicted Label: {result['label']}\")\n",
        "    print(f\"Confidence Score: {result['score']:.4f}\\n\")\n",
        "    print(\"-\" * 30)"
      ],
      "metadata": {
        "id": "R87SI40qHoir"
      },
      "execution_count": null,
      "outputs": []
    }
  ]
}