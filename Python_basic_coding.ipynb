{
  "nbformat": 4,
  "nbformat_minor": 0,
  "metadata": {
    "colab": {
      "provenance": [],
      "authorship_tag": "ABX9TyMAx4Qj/Kr3IHuOx3F2g1yk",
      "include_colab_link": true
    },
    "kernelspec": {
      "name": "python3",
      "display_name": "Python 3"
    },
    "language_info": {
      "name": "python"
    }
  },
  "cells": [
    {
      "cell_type": "markdown",
      "metadata": {
        "id": "view-in-github",
        "colab_type": "text"
      },
      "source": [
        "<a href=\"https://colab.research.google.com/github/dp-08/Gen-AI/blob/main/Python_basic_coding.ipynb\" target=\"_parent\"><img src=\"https://colab.research.google.com/assets/colab-badge.svg\" alt=\"Open In Colab\"/></a>"
      ]
    },
    {
      "cell_type": "markdown",
      "source": [
        "To find the square root of a number"
      ],
      "metadata": {
        "id": "OO7_holX_DPH"
      }
    },
    {
      "cell_type": "code",
      "execution_count": null,
      "metadata": {
        "id": "uQpT8y-Crky1"
      },
      "outputs": [],
      "source": [
        "import math\n",
        "n = int(input())\n",
        "print(math.sqrt(n))"
      ]
    },
    {
      "cell_type": "markdown",
      "source": [
        "To reverse two numbers"
      ],
      "metadata": {
        "id": "gGhs4pZm_Jd0"
      }
    },
    {
      "cell_type": "code",
      "source": [
        "a = int(input())\n",
        "b = int(input())\n",
        "a,b=b,a\n",
        "print(a)\n",
        "print(b)"
      ],
      "metadata": {
        "id": "FSRQNsaqs06v"
      },
      "execution_count": null,
      "outputs": []
    },
    {
      "cell_type": "markdown",
      "source": [
        "To check if a number if positive, negative or zero"
      ],
      "metadata": {
        "id": "4AIioD-C_OwC"
      }
    },
    {
      "cell_type": "code",
      "source": [
        "n = int(input())\n",
        "if n == 0:\n",
        "    print(\"Zero\")\n",
        "elif n < 0:\n",
        "    print(\"Negative\")\n",
        "else:\n",
        "    print(\"Positive\")"
      ],
      "metadata": {
        "id": "VMqjnQjlt-EJ"
      },
      "execution_count": null,
      "outputs": []
    },
    {
      "cell_type": "markdown",
      "source": [
        "To check if a number is even or odd"
      ],
      "metadata": {
        "id": "ufXqUwVS_WCb"
      }
    },
    {
      "cell_type": "code",
      "source": [
        "n =int(input())\n",
        "if n%2==0:\n",
        "  print(\"Even\")\n",
        "else:\n",
        "  print(\"odd\")"
      ],
      "metadata": {
        "id": "6xgMt4VgwELn"
      },
      "execution_count": null,
      "outputs": []
    },
    {
      "cell_type": "markdown",
      "source": [
        "To find the factorial of a number"
      ],
      "metadata": {
        "id": "l4EWVrIB_bjt"
      }
    },
    {
      "cell_type": "code",
      "source": [
        "def fact(n):\n",
        "  if n == 0:\n",
        "    return 1\n",
        "  else:\n",
        "    return n * fact(n-1)\n",
        "\n",
        "n = int(input())\n",
        "res = fact(n)\n",
        "print(res)"
      ],
      "metadata": {
        "id": "goVLnvfLyO2H"
      },
      "execution_count": null,
      "outputs": []
    },
    {
      "cell_type": "markdown",
      "source": [
        "To create a dataframe"
      ],
      "metadata": {
        "id": "6XUUhgG8_fRp"
      }
    },
    {
      "cell_type": "code",
      "source": [
        "import pandas as pd\n",
        "data = {'Name': ['Abhi','Bob','Charlie'], 'Age': [25,30,35], 'City': ['New York','San Francisco','Los Angeles']}\n",
        "df = pd.DataFrame(data)\n",
        "print(df)\n"
      ],
      "metadata": {
        "id": "D7ISIVOlzu2J"
      },
      "execution_count": null,
      "outputs": []
    },
    {
      "cell_type": "markdown",
      "source": [
        "To display the data with age greater than 25"
      ],
      "metadata": {
        "id": "mSL8Cbff_qT0"
      }
    },
    {
      "cell_type": "code",
      "source": [
        "display(df[df['Age'] > 25])"
      ],
      "metadata": {
        "id": "Mt712Jx01g0U"
      },
      "execution_count": null,
      "outputs": []
    },
    {
      "cell_type": "markdown",
      "source": [
        "To display the column age"
      ],
      "metadata": {
        "id": "kkFW8cvg_u00"
      }
    },
    {
      "cell_type": "code",
      "source": [
        "display(df['Age'])"
      ],
      "metadata": {
        "id": "C9XBv8Cs1tEn"
      },
      "execution_count": null,
      "outputs": []
    }
  ]
}