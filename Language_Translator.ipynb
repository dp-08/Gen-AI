{
  "nbformat": 4,
  "nbformat_minor": 0,
  "metadata": {
    "colab": {
      "provenance": [],
      "authorship_tag": "ABX9TyNGsJCcGaqWWXz0TcnUkPxy",
      "include_colab_link": true
    },
    "kernelspec": {
      "name": "python3",
      "display_name": "Python 3"
    },
    "language_info": {
      "name": "python"
    }
  },
  "cells": [
    {
      "cell_type": "markdown",
      "metadata": {
        "id": "view-in-github",
        "colab_type": "text"
      },
      "source": [
        "<a href=\"https://colab.research.google.com/github/dp-08/Gen-AI/blob/main/Language_Translator.ipynb\" target=\"_parent\"><img src=\"https://colab.research.google.com/assets/colab-badge.svg\" alt=\"Open In Colab\"/></a>"
      ]
    },
    {
      "cell_type": "code",
      "execution_count": null,
      "metadata": {
        "id": "1NE6c7WAJIsE"
      },
      "outputs": [],
      "source": [
        "pip install transformers[sentencepiece]"
      ]
    },
    {
      "cell_type": "code",
      "source": [
        "from transformers import pipeline\n",
        "\n",
        "# Initialize the translation pipeline.\n",
        "# This will automatically download a pre-trained model for English to German translation.\n",
        "# The model 'Helsinki-NLP/opus-mt-en-de' is a good choice for this task.\n",
        "translator = pipeline(\"translation_en_to_de\", model=\"Helsinki-NLP/opus-mt-en-de\")\n",
        "\n",
        "print(\"--- English to German Translator ---\")\n",
        "print(\"Enter an English sentence to translate it to German.\")\n",
        "print(\"Type 'quit' to exit.\")\n",
        "print(\"-\" * 30)\n",
        "\n",
        "while True:\n",
        "    user_input = input(\"Enter your English sentence: \")\n",
        "\n",
        "    if user_input.lower() == 'quit':\n",
        "        print(\"Thank you for using the translator!\")\n",
        "        break\n",
        "\n",
        "    if not user_input:\n",
        "        print(\"Please enter a sentence to translate.\")\n",
        "        continue\n",
        "\n",
        "    # The pipeline handles the translation with a single call.\n",
        "    # The output is a list of dictionaries.\n",
        "    translation_results = translator(user_input)\n",
        "\n",
        "    # Extract the translated text from the result\n",
        "    translated_text = translation_results[0]['translation_text']\n",
        "\n",
        "    print(\"\\nTranslation Results:\")\n",
        "    print(f\"Original English: '{user_input}'\")\n",
        "    print(f\"Translated German: '{translated_text}'\\n\")\n",
        "    print(\"-\" * 30)"
      ],
      "metadata": {
        "id": "OJIkPZNJJJkr"
      },
      "execution_count": null,
      "outputs": []
    }
  ]
}